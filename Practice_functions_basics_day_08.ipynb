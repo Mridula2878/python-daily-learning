{
  "nbformat": 4,
  "nbformat_minor": 0,
  "metadata": {
    "colab": {
      "provenance": []
    },
    "kernelspec": {
      "name": "python3",
      "display_name": "Python 3"
    },
    "language_info": {
      "name": "python"
    }
  },
  "cells": [
    {
      "cell_type": "markdown",
      "source": [
        "**A Cupcake Maker Function**"
      ],
      "metadata": {
        "id": "vPrarxQLqQwF"
      }
    },
    {
      "cell_type": "code",
      "source": [
        "def make_cupcake ():\n",
        "  print (\"Here is your yummy cupcake!\")"
      ],
      "metadata": {
        "id": "Xpq2MytLqWdF"
      },
      "execution_count": 19,
      "outputs": []
    },
    {
      "cell_type": "code",
      "source": [
        "def make_cupcake(flavor):\n",
        "  print(\"Here is your\" \" \"  + flavor + \" \" \"cupcake\")\n",
        "make_cupcake(\"chocolate\")"
      ],
      "metadata": {
        "colab": {
          "base_uri": "https://localhost:8080/"
        },
        "id": "0V1MY0VtqoJM",
        "outputId": "fdc8153b-15ea-4639-e1fb-748fc5057dd9"
      },
      "execution_count": 26,
      "outputs": [
        {
          "output_type": "stream",
          "name": "stdout",
          "text": [
            "Here is your chocolate cupcake\n"
          ]
        }
      ]
    },
    {
      "cell_type": "code",
      "source": [
        "def make_cupcake(flavor):\n",
        "    print(\"Here is your \" + flavor + \" cupcake! 🧁\")\n",
        "make_cupcake(\"chocolate\")"
      ],
      "metadata": {
        "colab": {
          "base_uri": "https://localhost:8080/"
        },
        "id": "kR_ywCJFsnm-",
        "outputId": "4e6cfdd3-e157-4676-bd32-ae947e6ad85b"
      },
      "execution_count": 27,
      "outputs": [
        {
          "output_type": "stream",
          "name": "stdout",
          "text": [
            "Here is your chocolate cupcake! 🧁\n"
          ]
        }
      ]
    },
    {
      "cell_type": "code",
      "source": [
        "def make_cupcake(flavor):\n",
        "    print(\"Here is your \" + flavor + \" cupcake! 🧁\")\n",
        "make_cupcake(\"strawberry\")"
      ],
      "metadata": {
        "colab": {
          "base_uri": "https://localhost:8080/"
        },
        "id": "MVk1riovtsia",
        "outputId": "74d48eaa-9d6d-40d3-dbf0-baecc94e6b61"
      },
      "execution_count": 28,
      "outputs": [
        {
          "output_type": "stream",
          "name": "stdout",
          "text": [
            "Here is your strawberry cupcake! 🧁\n"
          ]
        }
      ]
    },
    {
      "cell_type": "code",
      "source": [],
      "metadata": {
        "id": "u0fBZBuEuMgr"
      },
      "execution_count": null,
      "outputs": []
    },
    {
      "cell_type": "markdown",
      "source": [
        "**Super Cupcake maker function**\n",
        "\n",
        "We'll let the person choose:\n",
        "\n",
        "1. The flavor (like chocolate, vanilla)\n",
        "2. The size (small, medium, large)\n",
        "3. If they want sprinkles (yes or no)\n",
        "\n"
      ],
      "metadata": {
        "id": "0sm5YVkKuNO9"
      }
    },
    {
      "cell_type": "code",
      "source": [
        "def make_cupcake(size , flavor , sprinkles):\n",
        "  message = (\"Here is your\" \" \" + size +  \" \" + flavor + \" cupcake!\" )\n",
        "\n",
        "  if sprinkles == \"yes\":\n",
        "    message += \" Sprinkles included!\"\n",
        "  else:\n",
        "   message += \"\"\n",
        "\n",
        "  print(message)\n",
        ""
      ],
      "metadata": {
        "id": "Dq3fu5UTumrM"
      },
      "execution_count": 94,
      "outputs": []
    },
    {
      "cell_type": "code",
      "source": [
        "make_cupcake(\"medium\", \"vanilla\", \"no\")"
      ],
      "metadata": {
        "colab": {
          "base_uri": "https://localhost:8080/"
        },
        "id": "LsTPz0AauMKs",
        "outputId": "37158c08-af3b-4784-a9ad-8061906c3d1b"
      },
      "execution_count": 95,
      "outputs": [
        {
          "output_type": "stream",
          "name": "stdout",
          "text": [
            "Here is your medium vanilla cupcake!\n"
          ]
        }
      ]
    },
    {
      "cell_type": "code",
      "source": [
        "make_cupcake(\"large\", \"strawberry\", \"yes\")"
      ],
      "metadata": {
        "colab": {
          "base_uri": "https://localhost:8080/"
        },
        "id": "18kzY6bb3Vl9",
        "outputId": "3e1b8898-9f0d-45dc-c722-e45726994993"
      },
      "execution_count": 96,
      "outputs": [
        {
          "output_type": "stream",
          "name": "stdout",
          "text": [
            "Here is your large strawberry cupcake! Sprinkles included!\n"
          ]
        }
      ]
    },
    {
      "cell_type": "code",
      "source": [
        "def make_cupcake(size , flavor , sprinkles):\n",
        "  message = \"Here is your \" + size + \" \" + flavor + \" cupcake!\"\n",
        "\n",
        "  if sprinkles == \"yes\":\n",
        "    message += \" Sprinkles included!\"\n",
        "  else:\n",
        "    message += \"\"\n",
        "\n",
        "  print(message)\n"
      ],
      "metadata": {
        "id": "o8ze2NtP1Gc-"
      },
      "execution_count": 92,
      "outputs": []
    },
    {
      "cell_type": "code",
      "source": [
        "make_cupcake(\"small\", \"chocolate\", \"yes\")\n"
      ],
      "metadata": {
        "colab": {
          "base_uri": "https://localhost:8080/"
        },
        "id": "YGb3ZaRx23mq",
        "outputId": "282d9288-d9d4-4f04-d2f2-f7ef132a07d3"
      },
      "execution_count": 93,
      "outputs": [
        {
          "output_type": "stream",
          "name": "stdout",
          "text": [
            "Here is your small chocolate cupcake! Sprinkles included!\n"
          ]
        }
      ]
    },
    {
      "cell_type": "code",
      "source": [],
      "metadata": {
        "id": "G38so1IS4Rz-"
      },
      "execution_count": null,
      "outputs": []
    },
    {
      "cell_type": "markdown",
      "source": [
        "Updated Function with Icing Color"
      ],
      "metadata": {
        "id": "d4AxJlfm4Sp6"
      }
    },
    {
      "cell_type": "code",
      "source": [
        "def make_cupcake(size, flavor, sprinkles, icing_color):\n",
        "  message = \"Here is your \" + size + \" \" + flavor + \" cupcake!\"\n",
        "\n",
        "#  Add icing color to message\n",
        "  message += \" with \" + icing_color + \" icing.\"\n",
        "\n",
        "  if sprinkles == \"yes\":\n",
        "    message += \" Sprinkles included!\"\n",
        "  else:\n",
        "    message += \"\"\n",
        "\n",
        "  print(message)"
      ],
      "metadata": {
        "id": "oc-XNd4E4gQV"
      },
      "execution_count": 97,
      "outputs": []
    },
    {
      "cell_type": "code",
      "source": [
        "make_cupcake(\"small\", \"chocolate\", \"yes\", \"pink\")"
      ],
      "metadata": {
        "colab": {
          "base_uri": "https://localhost:8080/"
        },
        "id": "0Qq-bFGW4agr",
        "outputId": "d938b9a7-df1c-4b78-f634-99975e8a6f66"
      },
      "execution_count": 98,
      "outputs": [
        {
          "output_type": "stream",
          "name": "stdout",
          "text": [
            "Here is your small chocolate cupcake! with pink icing. Sprinkles included!\n"
          ]
        }
      ]
    },
    {
      "cell_type": "code",
      "source": [
        "make_cupcake(\"medium\", \"vanilla\", \"no\", \"blue\")"
      ],
      "metadata": {
        "colab": {
          "base_uri": "https://localhost:8080/"
        },
        "id": "h_w5q3y45b41",
        "outputId": "d9b70245-d286-4dc1-8862-b80e8b7b603f"
      },
      "execution_count": 99,
      "outputs": [
        {
          "output_type": "stream",
          "name": "stdout",
          "text": [
            "Here is your medium vanilla cupcake! with blue icing.\n"
          ]
        }
      ]
    },
    {
      "cell_type": "markdown",
      "source": [
        "**Lets Add name to it**"
      ],
      "metadata": {
        "id": "SxacpxpX6IPZ"
      }
    },
    {
      "cell_type": "code",
      "source": [
        "def make_cupcake(size, flavor, sprinkles, icing_color, name):\n",
        "  message = \"Here is your \" + size + \" \" + flavor + \" cupcake\"\n",
        "  message+= \" with \" + icing_color + \" icing,\"\n",
        "\n",
        "  if sprinkles == \"yes\":\n",
        "    message += \" sprinkles included\"\n",
        "  else:\n",
        "    message += \"\"\n",
        "\n",
        "#  Add name to message\n",
        "  message += \" for \" + name + \"!\"\n",
        "\n",
        "  print(message)"
      ],
      "metadata": {
        "id": "sdL0LRJ66N8Y"
      },
      "execution_count": 129,
      "outputs": []
    },
    {
      "cell_type": "code",
      "source": [
        "make_cupcake(\"small\", \"strawberry\", \"yes\", \"blue\", \"Avni\")"
      ],
      "metadata": {
        "colab": {
          "base_uri": "https://localhost:8080/"
        },
        "id": "EemXm_b57CmY",
        "outputId": "6de6a5fb-8423-48e1-b8e3-0a130b4e400f"
      },
      "execution_count": 130,
      "outputs": [
        {
          "output_type": "stream",
          "name": "stdout",
          "text": [
            "Here is your small strawberry cupcake with blue icing, sprinkles included for Avni!\n"
          ]
        }
      ]
    },
    {
      "cell_type": "code",
      "source": [
        "make_cupcake(\"medium\", \"chocolate\", \"no\", \"pink\", \"Aditi\")"
      ],
      "metadata": {
        "colab": {
          "base_uri": "https://localhost:8080/"
        },
        "id": "Tc2eOoCh8yFG",
        "outputId": "a8e92ac8-e365-490e-baae-eaa09407d1bb"
      },
      "execution_count": 131,
      "outputs": [
        {
          "output_type": "stream",
          "name": "stdout",
          "text": [
            "Here is your medium chocolate cupcake with pink icing, for Aditi!\n"
          ]
        }
      ]
    },
    {
      "cell_type": "markdown",
      "source": [
        "**Updated Function with Topping Emoji**"
      ],
      "metadata": {
        "id": "bH-7DC8aDHXM"
      }
    },
    {
      "cell_type": "code",
      "source": [
        "def make_cupcake(size, flavor, sprinkles, icing_color, name, topping_emoji):\n",
        "  message = \"Here is your \" + size + \" \" + flavor + \" cupcake\"\n",
        "  message+= \" with \" + icing_color + \" icing,\"\n",
        "\n",
        "  if sprinkles == \"yes\":\n",
        "    message += \" sprinkles included\"\n",
        "  else:\n",
        "    message += \"\"\n",
        "\n",
        "  message += \" for \" + name + \"!\"\n",
        "\n",
        "  # Add topping emoji if given\n",
        "  message += \"Topping\" + topping_emoji\n",
        "\n",
        "  print(message)"
      ],
      "metadata": {
        "id": "oma2OvzMDNbH"
      },
      "execution_count": 139,
      "outputs": []
    },
    {
      "cell_type": "code",
      "source": [
        "make_cupcake(\"medium\", \"vanilla\", \"yes\", \"pink\", \"Ava\",\" \" \"🍓\")"
      ],
      "metadata": {
        "colab": {
          "base_uri": "https://localhost:8080/"
        },
        "id": "fdBYgv3lD0Z7",
        "outputId": "9a2e1f2e-fc84-47f6-8f50-e1f892d74a5a"
      },
      "execution_count": 135,
      "outputs": [
        {
          "output_type": "stream",
          "name": "stdout",
          "text": [
            "Here is your medium vanilla cupcake with pink icing, sprinkles included for Ava!Topping 🍓\n"
          ]
        }
      ]
    },
    {
      "cell_type": "code",
      "source": [
        "make_cupcake(\"large\", \"chocolate\", \"yes\", \"brown\", \"Zara\", \"\" \" 🍒\")"
      ],
      "metadata": {
        "colab": {
          "base_uri": "https://localhost:8080/"
        },
        "id": "NdVmKNbYEsBL",
        "outputId": "7b564b3f-c975-439b-98c9-c16090ea5258"
      },
      "execution_count": 144,
      "outputs": [
        {
          "output_type": "stream",
          "name": "stdout",
          "text": [
            "Here is your large chocolate cupcake with brown icing, sprinkles included for Zara!Topping 🍒\n"
          ]
        }
      ]
    },
    {
      "cell_type": "markdown",
      "source": [
        "**Add a Fun Menu Function**"
      ],
      "metadata": {
        "id": "L5IdjjBhH3ou"
      }
    },
    {
      "cell_type": "code",
      "source": [
        "def show_menu():\n",
        "  print(\"🧁 Welcome to the Cupcake Shop ! 🧁\")\n",
        "  print(\"Sizes: small, medium, large\")\n",
        "  print(\"Flavors: vanilla, chocolate, red velvet, lemon\")\n",
        "  print(\"Icing colors: pink, blue, chocolate, rainbow\")\n",
        "  print(\"Sprinkles: yes or no\")\n",
        "  print(\"Toppings: 🍓 🍫 🍒 🌈\")"
      ],
      "metadata": {
        "id": "jNoLE63kH9uB"
      },
      "execution_count": 145,
      "outputs": []
    },
    {
      "cell_type": "code",
      "source": [
        "show_menu ()\n",
        "make_cupcake(\"small\", \"lemon\", \"yes\", \"pink\", \"Emma\", \"🍒\")"
      ],
      "metadata": {
        "colab": {
          "base_uri": "https://localhost:8080/"
        },
        "id": "SWwAsxjnJRJb",
        "outputId": "6f22afbe-519e-4281-bb21-ee04610686c0"
      },
      "execution_count": 146,
      "outputs": [
        {
          "output_type": "stream",
          "name": "stdout",
          "text": [
            "🧁 Welcome to the Cupcake Shop ! 🧁\n",
            "Sizes: small, medium, large\n",
            "Flavors: vanilla, chocolate, red velvet, lemon\n",
            "Icing colors: pink, blue, chocolate, rainbow\n",
            "Sprinkles: yes or no\n",
            "Toppings: 🍓 🍫 🍒 🌈\n",
            "Here is your small lemon cupcake with pink icing, sprinkles included for Emma!Topping🍒\n"
          ]
        }
      ]
    }
  ]
}