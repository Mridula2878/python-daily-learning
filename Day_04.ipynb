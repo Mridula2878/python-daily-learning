{
  "nbformat": 4,
  "nbformat_minor": 0,
  "metadata": {
    "colab": {
      "provenance": []
    },
    "kernelspec": {
      "name": "python3",
      "display_name": "Python 3"
    },
    "language_info": {
      "name": "python"
    }
  },
  "cells": [
    {
      "cell_type": "code",
      "execution_count": null,
      "metadata": {
        "colab": {
          "base_uri": "https://localhost:8080/"
        },
        "id": "zIi6IQRVR_61",
        "outputId": "b6708a46-f6fb-4508-83e0-476129d8ca95"
      },
      "outputs": [
        {
          "output_type": "stream",
          "name": "stdout",
          "text": [
            "1\n",
            "2\n",
            "3\n",
            "4\n",
            "5\n",
            "6\n",
            "7\n",
            "8\n",
            "9\n"
          ]
        }
      ],
      "source": [
        "for i in range (1, 10):\n",
        "  print (i)"
      ]
    },
    {
      "cell_type": "code",
      "source": [
        "100%10 .....>remainder"
      ],
      "metadata": {
        "colab": {
          "base_uri": "https://localhost:8080/"
        },
        "id": "pWMxaPuPWfPI",
        "outputId": "b9309f92-8353-4067-d4cb-c63bbfb5befa"
      },
      "execution_count": null,
      "outputs": [
        {
          "output_type": "execute_result",
          "data": {
            "text/plain": [
              "0"
            ]
          },
          "metadata": {},
          "execution_count": 9
        }
      ]
    },
    {
      "cell_type": "code",
      "source": [
        "num=60\n",
        "if (num%10) == 0:\n",
        "  print (num)\n",
        "else:\n",
        "  print(\"\")"
      ],
      "metadata": {
        "colab": {
          "base_uri": "https://localhost:8080/"
        },
        "id": "ipCzrnV9WfLk",
        "outputId": "6feb2fc2-044d-443e-fcad-50a85fd25163"
      },
      "execution_count": null,
      "outputs": [
        {
          "output_type": "stream",
          "name": "stdout",
          "text": [
            "60\n"
          ]
        }
      ]
    },
    {
      "cell_type": "code",
      "source": [
        "for i in range (0, 100):\n",
        "  if (i%20) == 0:\n",
        "    print(\"divisible\", i)\n",
        "  else:\n",
        "    print(\"not divisible\", i)"
      ],
      "metadata": {
        "colab": {
          "base_uri": "https://localhost:8080/"
        },
        "id": "NjrVkXLHWfI-",
        "outputId": "21e7214c-acd5-4d34-93af-1d22b739364f"
      },
      "execution_count": null,
      "outputs": [
        {
          "output_type": "stream",
          "name": "stdout",
          "text": [
            "divisible 0\n",
            "not divisible 1\n",
            "not divisible 2\n",
            "not divisible 3\n",
            "not divisible 4\n",
            "not divisible 5\n",
            "not divisible 6\n",
            "not divisible 7\n",
            "not divisible 8\n",
            "not divisible 9\n",
            "not divisible 10\n",
            "not divisible 11\n",
            "not divisible 12\n",
            "not divisible 13\n",
            "not divisible 14\n",
            "not divisible 15\n",
            "not divisible 16\n",
            "not divisible 17\n",
            "not divisible 18\n",
            "not divisible 19\n",
            "divisible 20\n",
            "not divisible 21\n",
            "not divisible 22\n",
            "not divisible 23\n",
            "not divisible 24\n",
            "not divisible 25\n",
            "not divisible 26\n",
            "not divisible 27\n",
            "not divisible 28\n",
            "not divisible 29\n",
            "not divisible 30\n",
            "not divisible 31\n",
            "not divisible 32\n",
            "not divisible 33\n",
            "not divisible 34\n",
            "not divisible 35\n",
            "not divisible 36\n",
            "not divisible 37\n",
            "not divisible 38\n",
            "not divisible 39\n",
            "divisible 40\n",
            "not divisible 41\n",
            "not divisible 42\n",
            "not divisible 43\n",
            "not divisible 44\n",
            "not divisible 45\n",
            "not divisible 46\n",
            "not divisible 47\n",
            "not divisible 48\n",
            "not divisible 49\n",
            "not divisible 50\n",
            "not divisible 51\n",
            "not divisible 52\n",
            "not divisible 53\n",
            "not divisible 54\n",
            "not divisible 55\n",
            "not divisible 56\n",
            "not divisible 57\n",
            "not divisible 58\n",
            "not divisible 59\n",
            "divisible 60\n",
            "not divisible 61\n",
            "not divisible 62\n",
            "not divisible 63\n",
            "not divisible 64\n",
            "not divisible 65\n",
            "not divisible 66\n",
            "not divisible 67\n",
            "not divisible 68\n",
            "not divisible 69\n",
            "not divisible 70\n",
            "not divisible 71\n",
            "not divisible 72\n",
            "not divisible 73\n",
            "not divisible 74\n",
            "not divisible 75\n",
            "not divisible 76\n",
            "not divisible 77\n",
            "not divisible 78\n",
            "not divisible 79\n",
            "divisible 80\n",
            "not divisible 81\n",
            "not divisible 82\n",
            "not divisible 83\n",
            "not divisible 84\n",
            "not divisible 85\n",
            "not divisible 86\n",
            "not divisible 87\n",
            "not divisible 88\n",
            "not divisible 89\n",
            "not divisible 90\n",
            "not divisible 91\n",
            "not divisible 92\n",
            "not divisible 93\n",
            "not divisible 94\n",
            "not divisible 95\n",
            "not divisible 96\n",
            "not divisible 97\n",
            "not divisible 98\n",
            "not divisible 99\n"
          ]
        }
      ]
    },
    {
      "cell_type": "code",
      "source": [
        "fruits =(\"apple\", \"banana\", \"cherry\")\n",
        "for fruit in fruits:\n",
        "  print (fruit)"
      ],
      "metadata": {
        "colab": {
          "base_uri": "https://localhost:8080/"
        },
        "id": "i7vJ7-_2WfGX",
        "outputId": "7cfe2ead-48b1-4c55-8a1b-1466e74319a4"
      },
      "execution_count": null,
      "outputs": [
        {
          "output_type": "stream",
          "name": "stdout",
          "text": [
            "apple\n",
            "banana\n",
            "cherry\n"
          ]
        }
      ]
    },
    {
      "cell_type": "code",
      "source": [
        "count = 0\n",
        "while count < 100:\n",
        "  print(count)\n",
        "  count += 1 # Increment the counter to eventually make the condition false"
      ],
      "metadata": {
        "colab": {
          "base_uri": "https://localhost:8080/"
        },
        "id": "FA0Dgv2fWe_A",
        "outputId": "74cdbb41-9a16-4256-d6dc-dbf521dfcef0"
      },
      "execution_count": null,
      "outputs": [
        {
          "output_type": "stream",
          "name": "stdout",
          "text": [
            "0\n",
            "1\n",
            "2\n",
            "3\n",
            "4\n",
            "5\n",
            "6\n",
            "7\n",
            "8\n",
            "9\n",
            "10\n",
            "11\n",
            "12\n",
            "13\n",
            "14\n",
            "15\n",
            "16\n",
            "17\n",
            "18\n",
            "19\n",
            "20\n",
            "21\n",
            "22\n",
            "23\n",
            "24\n",
            "25\n",
            "26\n",
            "27\n",
            "28\n",
            "29\n",
            "30\n",
            "31\n",
            "32\n",
            "33\n",
            "34\n",
            "35\n",
            "36\n",
            "37\n",
            "38\n",
            "39\n",
            "40\n",
            "41\n",
            "42\n",
            "43\n",
            "44\n",
            "45\n",
            "46\n",
            "47\n",
            "48\n",
            "49\n",
            "50\n",
            "51\n",
            "52\n",
            "53\n",
            "54\n",
            "55\n",
            "56\n",
            "57\n",
            "58\n",
            "59\n",
            "60\n",
            "61\n",
            "62\n",
            "63\n",
            "64\n",
            "65\n",
            "66\n",
            "67\n",
            "68\n",
            "69\n",
            "70\n",
            "71\n",
            "72\n",
            "73\n",
            "74\n",
            "75\n",
            "76\n",
            "77\n",
            "78\n",
            "79\n",
            "80\n",
            "81\n",
            "82\n",
            "83\n",
            "84\n",
            "85\n",
            "86\n",
            "87\n",
            "88\n",
            "89\n",
            "90\n",
            "91\n",
            "92\n",
            "93\n",
            "94\n",
            "95\n",
            "96\n",
            "97\n",
            "98\n",
            "99\n"
          ]
        }
      ]
    },
    {
      "cell_type": "code",
      "source": [],
      "metadata": {
        "id": "gZxXUSusWex6"
      },
      "execution_count": null,
      "outputs": []
    }
  ]
}