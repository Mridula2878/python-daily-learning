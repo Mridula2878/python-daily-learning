{
  "nbformat": 4,
  "nbformat_minor": 0,
  "metadata": {
    "colab": {
      "provenance": []
    },
    "kernelspec": {
      "name": "python3",
      "display_name": "Python 3"
    },
    "language_info": {
      "name": "python"
    }
  },
  "cells": [
    {
      "cell_type": "code",
      "execution_count": null,
      "metadata": {
        "id": "Z-kmge9ObYga"
      },
      "outputs": [],
      "source": [
        "marks = 95"
      ]
    },
    {
      "cell_type": "code",
      "source": [
        "if marks >=90:\n",
        "  print(\"A+\")\n",
        "elif marks >=80:\n",
        "  print(\"A\")\n",
        "elif marks >=70:\n",
        "  print(\"B\")\n",
        "elif marks >=60:\n",
        "  print(\"C\")\n",
        "else:\n",
        "  print(\"Fail\")"
      ],
      "metadata": {
        "colab": {
          "base_uri": "https://localhost:8080/"
        },
        "id": "ynLQiBwpbjDa",
        "outputId": "c26469a2-9886-4219-be30-2feda232fd0b"
      },
      "execution_count": null,
      "outputs": [
        {
          "output_type": "stream",
          "name": "stdout",
          "text": [
            "A+\n"
          ]
        }
      ]
    },
    {
      "cell_type": "code",
      "source": [
        "for i in range(100):\n",
        "  if (i%20) ==0:\n",
        "    print(\"divisible: \", i)\n",
        "  else:\n",
        "    print(\"not divisible:\", i)"
      ],
      "metadata": {
        "colab": {
          "base_uri": "https://localhost:8080/"
        },
        "id": "j-J82DLHbjGk",
        "outputId": "8db7731d-9b7d-42eb-a4ec-4702db91cd97"
      },
      "execution_count": null,
      "outputs": [
        {
          "output_type": "stream",
          "name": "stdout",
          "text": [
            "divisible:  0\n",
            "not divisible: 1\n",
            "not divisible: 2\n",
            "not divisible: 3\n",
            "not divisible: 4\n",
            "not divisible: 5\n",
            "not divisible: 6\n",
            "not divisible: 7\n",
            "not divisible: 8\n",
            "not divisible: 9\n",
            "not divisible: 10\n",
            "not divisible: 11\n",
            "not divisible: 12\n",
            "not divisible: 13\n",
            "not divisible: 14\n",
            "not divisible: 15\n",
            "not divisible: 16\n",
            "not divisible: 17\n",
            "not divisible: 18\n",
            "not divisible: 19\n",
            "divisible:  20\n",
            "not divisible: 21\n",
            "not divisible: 22\n",
            "not divisible: 23\n",
            "not divisible: 24\n",
            "not divisible: 25\n",
            "not divisible: 26\n",
            "not divisible: 27\n",
            "not divisible: 28\n",
            "not divisible: 29\n",
            "not divisible: 30\n",
            "not divisible: 31\n",
            "not divisible: 32\n",
            "not divisible: 33\n",
            "not divisible: 34\n",
            "not divisible: 35\n",
            "not divisible: 36\n",
            "not divisible: 37\n",
            "not divisible: 38\n",
            "not divisible: 39\n",
            "divisible:  40\n",
            "not divisible: 41\n",
            "not divisible: 42\n",
            "not divisible: 43\n",
            "not divisible: 44\n",
            "not divisible: 45\n",
            "not divisible: 46\n",
            "not divisible: 47\n",
            "not divisible: 48\n",
            "not divisible: 49\n",
            "not divisible: 50\n",
            "not divisible: 51\n",
            "not divisible: 52\n",
            "not divisible: 53\n",
            "not divisible: 54\n",
            "not divisible: 55\n",
            "not divisible: 56\n",
            "not divisible: 57\n",
            "not divisible: 58\n",
            "not divisible: 59\n",
            "divisible:  60\n",
            "not divisible: 61\n",
            "not divisible: 62\n",
            "not divisible: 63\n",
            "not divisible: 64\n",
            "not divisible: 65\n",
            "not divisible: 66\n",
            "not divisible: 67\n",
            "not divisible: 68\n",
            "not divisible: 69\n",
            "not divisible: 70\n",
            "not divisible: 71\n",
            "not divisible: 72\n",
            "not divisible: 73\n",
            "not divisible: 74\n",
            "not divisible: 75\n",
            "not divisible: 76\n",
            "not divisible: 77\n",
            "not divisible: 78\n",
            "not divisible: 79\n",
            "divisible:  80\n",
            "not divisible: 81\n",
            "not divisible: 82\n",
            "not divisible: 83\n",
            "not divisible: 84\n",
            "not divisible: 85\n",
            "not divisible: 86\n",
            "not divisible: 87\n",
            "not divisible: 88\n",
            "not divisible: 89\n",
            "not divisible: 90\n",
            "not divisible: 91\n",
            "not divisible: 92\n",
            "not divisible: 93\n",
            "not divisible: 94\n",
            "not divisible: 95\n",
            "not divisible: 96\n",
            "not divisible: 97\n",
            "not divisible: 98\n",
            "not divisible: 99\n"
          ]
        }
      ]
    },
    {
      "cell_type": "code",
      "source": [],
      "metadata": {
        "id": "R_ooWHAnbjJu"
      },
      "execution_count": null,
      "outputs": []
    },
    {
      "cell_type": "code",
      "source": [],
      "metadata": {
        "id": "WqjsFZcvbjMj"
      },
      "execution_count": null,
      "outputs": []
    },
    {
      "cell_type": "code",
      "source": [],
      "metadata": {
        "id": "I5zYeEckbjQJ"
      },
      "execution_count": null,
      "outputs": []
    }
  ]
}