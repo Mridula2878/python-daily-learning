{
  "nbformat": 4,
  "nbformat_minor": 0,
  "metadata": {
    "colab": {
      "provenance": []
    },
    "kernelspec": {
      "name": "python3",
      "display_name": "Python 3"
    },
    "language_info": {
      "name": "python"
    }
  },
  "cells": [
    {
      "cell_type": "markdown",
      "source": [
        "\n",
        "At the start of the day you have a **checklist**.\n",
        "\n",
        "The tasks you were able to complete should get added to **completed_task**\n",
        "\n",
        "The tasks you were not able to complete should get added to **incomplete_tasks**"
      ],
      "metadata": {
        "id": "oJfGjhZj3TMm"
      }
    },
    {
      "cell_type": "code",
      "source": [
        "checklist=[]"
      ],
      "metadata": {
        "id": "ysa9NiP04GAC"
      },
      "execution_count": null,
      "outputs": []
    },
    {
      "cell_type": "code",
      "source": [
        "checklist = ['T1', 'T2', 'T3', 'T4', 'T5']"
      ],
      "metadata": {
        "id": "3I953FzK4dqa"
      },
      "execution_count": null,
      "outputs": []
    },
    {
      "cell_type": "code",
      "source": [
        "completed_tasks = []"
      ],
      "metadata": {
        "id": "m-wO8rDz4yfX"
      },
      "execution_count": null,
      "outputs": []
    },
    {
      "cell_type": "code",
      "source": [
        "incompleted_tasks = []"
      ],
      "metadata": {
        "id": "gCIQDRLz42sA"
      },
      "execution_count": null,
      "outputs": []
    },
    {
      "cell_type": "code",
      "source": [
        "checklist.pop()\n",
        "completed_tasks.append('T5')"
      ],
      "metadata": {
        "id": "Aiqn7n1346y-"
      },
      "execution_count": null,
      "outputs": []
    },
    {
      "cell_type": "code",
      "source": [
        "checklist.pop()\n",
        "completed_tasks.append('T4')"
      ],
      "metadata": {
        "id": "fG1Hv6oZ5aSa"
      },
      "execution_count": null,
      "outputs": []
    },
    {
      "cell_type": "code",
      "source": [
        "completed_tasks"
      ],
      "metadata": {
        "colab": {
          "base_uri": "https://localhost:8080/"
        },
        "id": "AFbideoK6FPS",
        "outputId": "5b94880d-c0c0-46e6-f940-7b0223923b0e"
      },
      "execution_count": null,
      "outputs": [
        {
          "output_type": "execute_result",
          "data": {
            "text/plain": [
              "['T5', 'T4']"
            ]
          },
          "metadata": {},
          "execution_count": 14
        }
      ]
    },
    {
      "cell_type": "code",
      "source": [
        "checklist.pop()\n",
        "incompleted_tasks.append('T3')"
      ],
      "metadata": {
        "id": "s79FG9sk5gX_"
      },
      "execution_count": null,
      "outputs": []
    },
    {
      "cell_type": "code",
      "source": [
        "checklist.pop()\n",
        "incompleted_tasks.append('T2')"
      ],
      "metadata": {
        "id": "TiDg_D7l5rEf"
      },
      "execution_count": null,
      "outputs": []
    },
    {
      "cell_type": "code",
      "source": [
        "checklist.pop()\n",
        "incompleted_tasks.append('T1')"
      ],
      "metadata": {
        "id": "A4Q3L_Vo50xD"
      },
      "execution_count": null,
      "outputs": []
    },
    {
      "cell_type": "code",
      "source": [
        "incompleted_tasks"
      ],
      "metadata": {
        "colab": {
          "base_uri": "https://localhost:8080/"
        },
        "id": "lp_6Glg65_s_",
        "outputId": "66db0157-4fef-4022-d573-50b7c16aa6fe"
      },
      "execution_count": null,
      "outputs": [
        {
          "output_type": "execute_result",
          "data": {
            "text/plain": [
              "['T3', 'T2', 'T1']"
            ]
          },
          "metadata": {},
          "execution_count": 13
        }
      ]
    },
    {
      "cell_type": "code",
      "source": [
        "checklist"
      ],
      "metadata": {
        "colab": {
          "base_uri": "https://localhost:8080/"
        },
        "id": "fKZrQbVc57Fb",
        "outputId": "815a5baa-7036-49a9-ac3c-cb9147b9d50d"
      },
      "execution_count": null,
      "outputs": [
        {
          "output_type": "execute_result",
          "data": {
            "text/plain": [
              "[]"
            ]
          },
          "metadata": {},
          "execution_count": 12
        }
      ]
    },
    {
      "cell_type": "markdown",
      "source": [],
      "metadata": {
        "id": "mcVZqIbm36Jh"
      }
    },
    {
      "cell_type": "code",
      "source": [
        "print(checklist)"
      ],
      "metadata": {
        "colab": {
          "base_uri": "https://localhost:8080/"
        },
        "id": "OkBf2slo32df",
        "outputId": "ad787cc2-4d90-414f-f09c-9857877880a9"
      },
      "execution_count": null,
      "outputs": [
        {
          "output_type": "stream",
          "name": "stdout",
          "text": [
            "[]\n"
          ]
        }
      ]
    },
    {
      "cell_type": "code",
      "source": [
        "print(incompleted_tasks)\n",
        "print(completed_tasks)"
      ],
      "metadata": {
        "colab": {
          "base_uri": "https://localhost:8080/"
        },
        "id": "-qkk1My-6Um5",
        "outputId": "dd19b3e0-3e5d-4a2f-ed8e-4288a98c02c0"
      },
      "execution_count": null,
      "outputs": [
        {
          "output_type": "stream",
          "name": "stdout",
          "text": [
            "['T3', 'T2', 'T1']\n",
            "['T5', 'T4']\n"
          ]
        }
      ]
    },
    {
      "cell_type": "code",
      "source": [
        "def multiply_numbers (x, y):\n",
        "  print (x*y)"
      ],
      "metadata": {
        "id": "gcr4zjSu9sz0"
      },
      "execution_count": null,
      "outputs": []
    },
    {
      "cell_type": "code",
      "source": [
        "multiply_numbers (2, 3)"
      ],
      "metadata": {
        "colab": {
          "base_uri": "https://localhost:8080/"
        },
        "id": "h6rJhkOn-BfG",
        "outputId": "fefeecef-94aa-460c-c379-86a81973c0e8"
      },
      "execution_count": null,
      "outputs": [
        {
          "output_type": "stream",
          "name": "stdout",
          "text": [
            "6\n"
          ]
        }
      ]
    },
    {
      "cell_type": "code",
      "source": [],
      "metadata": {
        "id": "JCQ6NZRjho_a"
      },
      "execution_count": null,
      "outputs": []
    },
    {
      "cell_type": "markdown",
      "source": [
        "**Functions**"
      ],
      "metadata": {
        "id": "dROZQYCQhpes"
      }
    },
    {
      "cell_type": "code",
      "source": [
        "def check_even_or_odd (number):\n",
        "  if number % 2 == 0:\n",
        "    print (\"the number is even\")\n",
        "  else:\n",
        "    print (\"the number is odd\")"
      ],
      "metadata": {
        "id": "Ox_PqoIs-YO8"
      },
      "execution_count": null,
      "outputs": []
    },
    {
      "cell_type": "code",
      "source": [
        "number = 5"
      ],
      "metadata": {
        "id": "719OgtNM_f6g"
      },
      "execution_count": null,
      "outputs": []
    },
    {
      "cell_type": "code",
      "source": [
        "check_even_or_odd(5)"
      ],
      "metadata": {
        "colab": {
          "base_uri": "https://localhost:8080/"
        },
        "id": "oxCuQtnq_rnV",
        "outputId": "97db647e-0506-4abd-ff94-cfeadf607cc1"
      },
      "execution_count": null,
      "outputs": [
        {
          "output_type": "stream",
          "name": "stdout",
          "text": [
            "the number is odd\n"
          ]
        }
      ]
    },
    {
      "cell_type": "code",
      "source": [
        "check_even_or_odd(10)"
      ],
      "metadata": {
        "colab": {
          "base_uri": "https://localhost:8080/"
        },
        "id": "PqG5Ux1Y_2EJ",
        "outputId": "b70969ec-44e0-4dab-ce51-aa983867d33f"
      },
      "execution_count": null,
      "outputs": [
        {
          "output_type": "stream",
          "name": "stdout",
          "text": [
            "the number is even\n"
          ]
        }
      ]
    },
    {
      "cell_type": "code",
      "source": [
        "def favourite_animal():\n",
        "  return \"elephant\"\n"
      ],
      "metadata": {
        "id": "G3gecjx8AFws"
      },
      "execution_count": null,
      "outputs": []
    },
    {
      "cell_type": "code",
      "source": [
        "my_animal=favourite_animal()\n",
        "print(\"My favourite animal is:\", my_animal)"
      ],
      "metadata": {
        "colab": {
          "base_uri": "https://localhost:8080/"
        },
        "id": "HJyKpXoZAF0J",
        "outputId": "83684113-b93d-447e-defb-b05edbc6ee67"
      },
      "execution_count": null,
      "outputs": [
        {
          "output_type": "stream",
          "name": "stdout",
          "text": [
            "My favourite animal is: elephant\n"
          ]
        }
      ]
    },
    {
      "cell_type": "code",
      "source": [],
      "metadata": {
        "id": "ugs30dcRAF3f"
      },
      "execution_count": null,
      "outputs": []
    }
  ]
}