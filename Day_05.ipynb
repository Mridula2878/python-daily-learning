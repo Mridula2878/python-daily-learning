{
  "nbformat": 4,
  "nbformat_minor": 0,
  "metadata": {
    "colab": {
      "provenance": []
    },
    "kernelspec": {
      "name": "python3",
      "display_name": "Python 3"
    },
    "language_info": {
      "name": "python"
    }
  },
  "cells": [
    {
      "cell_type": "markdown",
      "source": [
        "**Creating a List**"
      ],
      "metadata": {
        "id": "GxlWsFv5lXDg"
      }
    },
    {
      "cell_type": "code",
      "source": [
        "Items = []"
      ],
      "metadata": {
        "id": "uX-hb_U2lbOH"
      },
      "execution_count": null,
      "outputs": []
    },
    {
      "cell_type": "code",
      "source": [
        "Items = [\"Speaker\", \"mobile\", \"mic\", \"laptop\"]"
      ],
      "metadata": {
        "id": "JEi534NxmMxd"
      },
      "execution_count": null,
      "outputs": []
    },
    {
      "cell_type": "code",
      "source": [],
      "metadata": {
        "id": "mMPwheA3m-4g"
      },
      "execution_count": null,
      "outputs": []
    },
    {
      "cell_type": "markdown",
      "source": [
        "### **Accessing Elements in List**"
      ],
      "metadata": {
        "id": "j1MpCP2zm_hx"
      }
    },
    {
      "cell_type": "code",
      "source": [
        "Items[2]"
      ],
      "metadata": {
        "colab": {
          "base_uri": "https://localhost:8080/",
          "height": 35
        },
        "id": "XjH5181MnKZD",
        "outputId": "159db802-c0ae-4e12-e9b6-f3aaefd0bd7e"
      },
      "execution_count": null,
      "outputs": [
        {
          "output_type": "execute_result",
          "data": {
            "text/plain": [
              "'mic'"
            ],
            "application/vnd.google.colaboratory.intrinsic+json": {
              "type": "string"
            }
          },
          "metadata": {},
          "execution_count": 10
        }
      ]
    },
    {
      "cell_type": "code",
      "source": [
        "print(Items[2])"
      ],
      "metadata": {
        "colab": {
          "base_uri": "https://localhost:8080/"
        },
        "id": "vZMrXBEUoIQT",
        "outputId": "dd19cda7-8688-42e2-8f4e-08379e6959c3"
      },
      "execution_count": null,
      "outputs": [
        {
          "output_type": "stream",
          "name": "stdout",
          "text": [
            "mic\n"
          ]
        }
      ]
    },
    {
      "cell_type": "markdown",
      "source": [
        "**Negative Indexing**"
      ],
      "metadata": {
        "id": "n6UNCC7XpIJq"
      }
    },
    {
      "cell_type": "code",
      "source": [
        "Items[-1]"
      ],
      "metadata": {
        "colab": {
          "base_uri": "https://localhost:8080/",
          "height": 35
        },
        "id": "1zx3DZU_pMIv",
        "outputId": "3689777f-1fd9-4953-92df-53bfa72ab067"
      },
      "execution_count": null,
      "outputs": [
        {
          "output_type": "execute_result",
          "data": {
            "text/plain": [
              "'laptop'"
            ],
            "application/vnd.google.colaboratory.intrinsic+json": {
              "type": "string"
            }
          },
          "metadata": {},
          "execution_count": 18
        }
      ]
    },
    {
      "cell_type": "markdown",
      "source": [
        "**Slicing a List**"
      ],
      "metadata": {
        "id": "Et1CXqE5p5zn"
      }
    },
    {
      "cell_type": "code",
      "source": [
        "Items[0:2]"
      ],
      "metadata": {
        "colab": {
          "base_uri": "https://localhost:8080/"
        },
        "id": "GbvmSVZWp-Kv",
        "outputId": "1e6a46bb-fc20-47f8-e17c-6f52d427cb35"
      },
      "execution_count": null,
      "outputs": [
        {
          "output_type": "execute_result",
          "data": {
            "text/plain": [
              "['Speaker', 'mobile']"
            ]
          },
          "metadata": {},
          "execution_count": 19
        }
      ]
    },
    {
      "cell_type": "code",
      "source": [
        "Items[2:]"
      ],
      "metadata": {
        "colab": {
          "base_uri": "https://localhost:8080/"
        },
        "id": "y8f8Ur6loItu",
        "outputId": "b5272e44-8fff-49cd-f556-081c5f4a4d0c"
      },
      "execution_count": null,
      "outputs": [
        {
          "output_type": "execute_result",
          "data": {
            "text/plain": [
              "['mic', 'laptop']"
            ]
          },
          "metadata": {},
          "execution_count": 6
        }
      ]
    },
    {
      "cell_type": "code",
      "source": [
        "Items[:3]"
      ],
      "metadata": {
        "colab": {
          "base_uri": "https://localhost:8080/"
        },
        "id": "-m6Un1KXoIxC",
        "outputId": "2b8acdf6-3358-4ec9-f364-4b6d892997ec"
      },
      "execution_count": null,
      "outputs": [
        {
          "output_type": "execute_result",
          "data": {
            "text/plain": [
              "['Speaker', 'mobile', 'mic']"
            ]
          },
          "metadata": {},
          "execution_count": 7
        }
      ]
    },
    {
      "cell_type": "code",
      "source": [],
      "metadata": {
        "id": "AJQSD2Msx-Vh"
      },
      "execution_count": null,
      "outputs": []
    },
    {
      "cell_type": "markdown",
      "source": [
        "**Modifying elements in a list **"
      ],
      "metadata": {
        "id": "mNwCJWegyBB2"
      }
    },
    {
      "cell_type": "code",
      "source": [
        "Items"
      ],
      "metadata": {
        "colab": {
          "base_uri": "https://localhost:8080/"
        },
        "id": "sr1bj8acyIKE",
        "outputId": "36e7d649-f6d6-4475-f2a4-9968c4b8a398"
      },
      "execution_count": null,
      "outputs": [
        {
          "output_type": "execute_result",
          "data": {
            "text/plain": [
              "['Speaker', 'mobile', 'mic', 'laptop']"
            ]
          },
          "metadata": {},
          "execution_count": 8
        }
      ]
    },
    {
      "cell_type": "code",
      "source": [
        "Items[3] = \"pc\""
      ],
      "metadata": {
        "id": "A8QHl83KyMn_"
      },
      "execution_count": null,
      "outputs": []
    },
    {
      "cell_type": "code",
      "source": [
        "Items"
      ],
      "metadata": {
        "colab": {
          "base_uri": "https://localhost:8080/"
        },
        "id": "cBFNO9DlyTUp",
        "outputId": "b8cb385c-9957-4a03-fb79-41b299dcb54d"
      },
      "execution_count": null,
      "outputs": [
        {
          "output_type": "execute_result",
          "data": {
            "text/plain": [
              "['Speaker', 'mobile', 'mic', 'pc']"
            ]
          },
          "metadata": {},
          "execution_count": 10
        }
      ]
    },
    {
      "cell_type": "markdown",
      "source": [
        "**Adding Elements to a list**"
      ],
      "metadata": {
        "id": "HjGGK3D-yXSs"
      }
    },
    {
      "cell_type": "code",
      "source": [
        "Items"
      ],
      "metadata": {
        "colab": {
          "base_uri": "https://localhost:8080/"
        },
        "id": "KeAsYMO3ybpW",
        "outputId": "36d838fc-b0fc-4417-cd0d-f8e8f562ba3f"
      },
      "execution_count": null,
      "outputs": [
        {
          "output_type": "execute_result",
          "data": {
            "text/plain": [
              "['Speaker', 'mobile', 'mic', 'pc']"
            ]
          },
          "metadata": {},
          "execution_count": 11
        }
      ]
    },
    {
      "cell_type": "code",
      "source": [
        "Items.append (\"charger\")"
      ],
      "metadata": {
        "id": "NzWqM7pLyTXi"
      },
      "execution_count": null,
      "outputs": []
    },
    {
      "cell_type": "code",
      "source": [
        "Items.append(\"mouse\")"
      ],
      "metadata": {
        "id": "W3DV7maDy4vz"
      },
      "execution_count": null,
      "outputs": []
    },
    {
      "cell_type": "code",
      "source": [
        "Items"
      ],
      "metadata": {
        "colab": {
          "base_uri": "https://localhost:8080/"
        },
        "id": "TLiX8u3NyTa3",
        "outputId": "81d23c48-2e50-4c1a-f4ca-634df4f5da2c"
      },
      "execution_count": null,
      "outputs": [
        {
          "output_type": "execute_result",
          "data": {
            "text/plain": [
              "['Speaker', 'mobile', 'mic', 'pc', 'charger', 'charger', 'mouse']"
            ]
          },
          "metadata": {},
          "execution_count": 17
        }
      ]
    },
    {
      "cell_type": "code",
      "source": [],
      "metadata": {
        "id": "uG5lcUfiypXd"
      },
      "execution_count": null,
      "outputs": []
    },
    {
      "cell_type": "markdown",
      "source": [
        "**Remove Elements**"
      ],
      "metadata": {
        "id": "Zs6AhripzAyb"
      }
    },
    {
      "cell_type": "code",
      "source": [
        "Items"
      ],
      "metadata": {
        "colab": {
          "base_uri": "https://localhost:8080/"
        },
        "id": "30oDSHdDzFHQ",
        "outputId": "c1be1800-41eb-461d-85c7-cb3b70eb96d7"
      },
      "execution_count": null,
      "outputs": [
        {
          "output_type": "execute_result",
          "data": {
            "text/plain": [
              "['Speaker', 'mobile', 'mic', 'pc', 'charger', 'charger', 'mouse']"
            ]
          },
          "metadata": {},
          "execution_count": 18
        }
      ]
    },
    {
      "cell_type": "code",
      "source": [
        "Items.remove(\"mouse\")"
      ],
      "metadata": {
        "id": "zJaat4s7ypao"
      },
      "execution_count": null,
      "outputs": []
    },
    {
      "cell_type": "code",
      "source": [
        "Items"
      ],
      "metadata": {
        "colab": {
          "base_uri": "https://localhost:8080/"
        },
        "id": "ogU6qOX3ypeB",
        "outputId": "36192799-f0ce-424f-c0fd-e22ca198c340"
      },
      "execution_count": null,
      "outputs": [
        {
          "output_type": "execute_result",
          "data": {
            "text/plain": [
              "['Speaker', 'mobile', 'mic', 'pc', 'charger', 'charger']"
            ]
          },
          "metadata": {},
          "execution_count": 20
        }
      ]
    },
    {
      "cell_type": "code",
      "source": [],
      "metadata": {
        "id": "Rf_sxVlczRwn"
      },
      "execution_count": null,
      "outputs": []
    },
    {
      "cell_type": "markdown",
      "source": [
        "**Delete Items**"
      ],
      "metadata": {
        "id": "nMorrgd-zSo-"
      }
    },
    {
      "cell_type": "code",
      "source": [
        "Items"
      ],
      "metadata": {
        "colab": {
          "base_uri": "https://localhost:8080/"
        },
        "id": "t1xSzaFezVrB",
        "outputId": "9e289de3-0b43-42db-a5a3-99f0685a1b01"
      },
      "execution_count": null,
      "outputs": [
        {
          "output_type": "execute_result",
          "data": {
            "text/plain": [
              "['Speaker', 'mobile', 'mic', 'pc', 'charger', 'charger']"
            ]
          },
          "metadata": {},
          "execution_count": 21
        }
      ]
    },
    {
      "cell_type": "code",
      "source": [
        "del Items[-1]"
      ],
      "metadata": {
        "id": "9hxCDXV3zRzy"
      },
      "execution_count": null,
      "outputs": []
    },
    {
      "cell_type": "code",
      "source": [
        "Items"
      ],
      "metadata": {
        "colab": {
          "base_uri": "https://localhost:8080/"
        },
        "id": "3Stop1zbzR3H",
        "outputId": "25d0443d-a92d-44ee-cb81-6af933c0c0d3"
      },
      "execution_count": null,
      "outputs": [
        {
          "output_type": "execute_result",
          "data": {
            "text/plain": [
              "['Speaker', 'mobile', 'mic', 'pc', 'charger']"
            ]
          },
          "metadata": {},
          "execution_count": 24
        }
      ]
    },
    {
      "cell_type": "code",
      "source": [],
      "metadata": {
        "id": "zNLK8yTdzqLZ"
      },
      "execution_count": null,
      "outputs": []
    },
    {
      "cell_type": "markdown",
      "source": [
        "**Checking for Existence**"
      ],
      "metadata": {
        "id": "xlz4SdRbzrbR"
      }
    },
    {
      "cell_type": "code",
      "source": [
        "print(\"earbuds\"in Items)"
      ],
      "metadata": {
        "colab": {
          "base_uri": "https://localhost:8080/"
        },
        "id": "QblaRo-Nzu8y",
        "outputId": "b3b806a4-80f4-4561-ab33-488d61f912f0"
      },
      "execution_count": null,
      "outputs": [
        {
          "output_type": "stream",
          "name": "stdout",
          "text": [
            "False\n"
          ]
        }
      ]
    },
    {
      "cell_type": "code",
      "source": [
        "print(\"mobile\"in Items)"
      ],
      "metadata": {
        "colab": {
          "base_uri": "https://localhost:8080/"
        },
        "id": "5WH8fvc8zqPH",
        "outputId": "1591edcd-2081-4744-ec0c-b13375d3e4c4"
      },
      "execution_count": null,
      "outputs": [
        {
          "output_type": "stream",
          "name": "stdout",
          "text": [
            "True\n"
          ]
        }
      ]
    },
    {
      "cell_type": "code",
      "source": [],
      "metadata": {
        "id": "wfYuOjgNzqRs"
      },
      "execution_count": null,
      "outputs": []
    },
    {
      "cell_type": "markdown",
      "source": [
        "**Length Of a List**"
      ],
      "metadata": {
        "id": "e7QDJ2YWz-D1"
      }
    },
    {
      "cell_type": "code",
      "source": [
        "len(Items)"
      ],
      "metadata": {
        "colab": {
          "base_uri": "https://localhost:8080/"
        },
        "id": "vftWjsZr0Bxn",
        "outputId": "07802b7d-6810-4f69-af30-522e9faf438a"
      },
      "execution_count": null,
      "outputs": [
        {
          "output_type": "execute_result",
          "data": {
            "text/plain": [
              "5"
            ]
          },
          "metadata": {},
          "execution_count": 27
        }
      ]
    },
    {
      "cell_type": "code",
      "source": [],
      "metadata": {
        "id": "HwMMqaN0zqU3"
      },
      "execution_count": null,
      "outputs": []
    },
    {
      "cell_type": "markdown",
      "source": [
        "**List Comprehension**"
      ],
      "metadata": {
        "id": "zS_TAgWm0IOM"
      }
    },
    {
      "cell_type": "code",
      "source": [
        "scores = [60, 70, 80, 90, 100]\n",
        "for i in scores:\n",
        "  print (i/2)"
      ],
      "metadata": {
        "colab": {
          "base_uri": "https://localhost:8080/"
        },
        "id": "e-iJ4GIY0MyM",
        "outputId": "10c4c500-db36-4bb9-dd47-f4979821d947"
      },
      "execution_count": null,
      "outputs": [
        {
          "output_type": "stream",
          "name": "stdout",
          "text": [
            "30.0\n",
            "35.0\n",
            "40.0\n",
            "45.0\n",
            "50.0\n"
          ]
        }
      ]
    },
    {
      "cell_type": "code",
      "source": [
        "[i/2 for i in scores]"
      ],
      "metadata": {
        "colab": {
          "base_uri": "https://localhost:8080/"
        },
        "id": "oJ5P6P9w0ext",
        "outputId": "9c0bfdd0-3d87-438c-c846-1f2089baa64e"
      },
      "execution_count": null,
      "outputs": [
        {
          "output_type": "execute_result",
          "data": {
            "text/plain": [
              "[30.0, 35.0, 40.0, 45.0, 50.0]"
            ]
          },
          "metadata": {},
          "execution_count": 31
        }
      ]
    }
  ]
}